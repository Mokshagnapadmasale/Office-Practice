{
 "cells": [
  {
   "cell_type": "code",
   "execution_count": 55,
   "id": "8210c769",
   "metadata": {},
   "outputs": [],
   "source": [
    "student_data = [\n",
    "    {\"Name\": \"Virat Kohli\", \"Age\": 36, \"Job\": \"Cricketer\", \"Salary\": 20000},\n",
    "    {\"Name\": \"Satya Nadella\", \"Age\": 56, \"Job\": \"CEO\", \"Salary\": 150000},\n",
    "    {\"Name\": \"Sundar Pichai\", \"Age\": 52, \"Job\": \"Engineer\", \"Salary\": 140000},\n",
    "    {\"Name\": \"Rohit Sharma\", \"Age\": 37, \"Job\": \"Cricketer\", \"Salary\": 18000},\n",
    "    {\"Name\": \"Neha Sharma\", \"Age\": 28, \"Job\": \"Data Scientist\", \"Salary\": 95000},\n",
    "    {\"Name\": \"Amit Kumar\", \"Age\": 31, \"Job\": \"Software Developer\", \"Salary\": 80000},\n",
    "    {\"Name\": \"Priya Verma\", \"Age\": 26, \"Job\": \"UX Designer\", \"Salary\": 70000},\n",
    "    {\"Name\": \"Ramesh Singh\", \"Age\": 45, \"Job\": \"Teacher\", \"Salary\": 55000},\n",
    "    {\"Name\": \"Anjali Mehta\", \"Age\": 30, \"Job\": \"Doctor\", \"Salary\": 120000},\n",
    "    {\"Name\": \"Karan Patel\", \"Age\": 34, \"Job\": \"Lawyer\", \"Salary\": 110000}\n",
    "]\n"
   ]
  },
  {
   "cell_type": "code",
   "execution_count": 23,
   "id": "cd1ac86d",
   "metadata": {},
   "outputs": [
    {
     "data": {
      "text/plain": [
       "{'Name': 'Rohit Sharma', 'Age': 37, 'Job': 'Cricketer', 'Salary': 18000}"
      ]
     },
     "execution_count": 23,
     "metadata": {},
     "output_type": "execute_result"
    }
   ],
   "source": [
    "min_salary = min(student_data,key = lambda x : x[\"Salary\"])\n",
    "min_salary"
   ]
  },
  {
   "cell_type": "code",
   "execution_count": 25,
   "id": "991f9e70",
   "metadata": {},
   "outputs": [
    {
     "data": {
      "text/plain": [
       "{'Name': 'Satya Nadella', 'Age': 56, 'Job': 'CEO', 'Salary': 150000}"
      ]
     },
     "execution_count": 25,
     "metadata": {},
     "output_type": "execute_result"
    }
   ],
   "source": [
    "max_Age = max(student_data,key = lambda x : x[\"Age\"])\n",
    "max_Age"
   ]
  },
  {
   "cell_type": "code",
   "execution_count": 30,
   "id": "85d507b0",
   "metadata": {},
   "outputs": [
    {
     "data": {
      "text/plain": [
       "[{'Name': 'Priya Verma', 'Age': 26, 'Job': 'UX Designer', 'Salary': 70000},\n",
       " {'Name': 'Neha Sharma', 'Age': 28, 'Job': 'Data Scientist', 'Salary': 95000},\n",
       " {'Name': 'Anjali Mehta', 'Age': 30, 'Job': 'Doctor', 'Salary': 120000},\n",
       " {'Name': 'Amit Kumar',\n",
       "  'Age': 31,\n",
       "  'Job': 'Software Developer',\n",
       "  'Salary': 80000},\n",
       " {'Name': 'Karan Patel', 'Age': 34, 'Job': 'Lawyer', 'Salary': 110000},\n",
       " {'Name': 'Virat Kohli', 'Age': 36, 'Job': 'Cricketer', 'Salary': 20000},\n",
       " {'Name': 'Rohit Sharma', 'Age': 37, 'Job': 'Cricketer', 'Salary': 18000},\n",
       " {'Name': 'Ramesh Singh', 'Age': 45, 'Job': 'Teacher', 'Salary': 55000},\n",
       " {'Name': 'Sundar Pichai', 'Age': 52, 'Job': 'Engineer', 'Salary': 140000},\n",
       " {'Name': 'Satya Nadella', 'Age': 56, 'Job': 'CEO', 'Salary': 150000}]"
      ]
     },
     "execution_count": 30,
     "metadata": {},
     "output_type": "execute_result"
    }
   ],
   "source": [
    "sorted_age_list = sorted(student_data,key = lambda x : x[\"Age\"])\n",
    "sorted_age_list"
   ]
  },
  {
   "cell_type": "code",
   "execution_count": 34,
   "id": "eab344b8",
   "metadata": {},
   "outputs": [
    {
     "data": {
      "text/plain": [
       "[{'Name': 'Priya Verma', 'Age': 26, 'Job': 'UX Designer', 'Salary': 70000},\n",
       " {'Name': 'Neha Sharma', 'Age': 28, 'Job': 'Data Scientist', 'Salary': 95000},\n",
       " {'Name': 'Anjali Mehta', 'Age': 30, 'Job': 'Doctor', 'Salary': 120000},\n",
       " {'Name': 'Amit Kumar',\n",
       "  'Age': 31,\n",
       "  'Job': 'Software Developer',\n",
       "  'Salary': 80000},\n",
       " {'Name': 'Karan Patel', 'Age': 34, 'Job': 'Lawyer', 'Salary': 110000},\n",
       " {'Name': 'Virat Kohli', 'Age': 36, 'Job': 'Cricketer', 'Salary': 20000},\n",
       " {'Name': 'Rohit Sharma', 'Age': 37, 'Job': 'Cricketer', 'Salary': 18000},\n",
       " {'Name': 'Ramesh Singh', 'Age': 45, 'Job': 'Teacher', 'Salary': 55000},\n",
       " {'Name': 'Sundar Pichai', 'Age': 52, 'Job': 'Engineer', 'Salary': 140000},\n",
       " {'Name': 'Satya Nadella', 'Age': 56, 'Job': 'CEO', 'Salary': 150000}]"
      ]
     },
     "execution_count": 34,
     "metadata": {},
     "output_type": "execute_result"
    }
   ],
   "source": [
    "sorted_age_salary_list = sorted(student_data,key=lambda x : x[\"Salary\"]) and sorted_age_list \n",
    "sorted_age_salary_list"
   ]
  },
  {
   "cell_type": "code",
   "execution_count": 39,
   "id": "6f5efa87",
   "metadata": {},
   "outputs": [
    {
     "data": {
      "text/plain": [
       "[{'Name': 'Neha Sharma', 'Age': 28, 'Job': 'Data Scientist', 'Salary': 95000},\n",
       " {'Name': 'Amit Kumar',\n",
       "  'Age': 31,\n",
       "  'Job': 'Software Developer',\n",
       "  'Salary': 80000},\n",
       " {'Name': 'Priya Verma', 'Age': 26, 'Job': 'UX Designer', 'Salary': 70000},\n",
       " {'Name': 'Anjali Mehta', 'Age': 30, 'Job': 'Doctor', 'Salary': 120000}]"
      ]
     },
     "execution_count": 39,
     "metadata": {},
     "output_type": "execute_result"
    }
   ],
   "source": [
    "age_small = list(filter(lambda x : x[\"Age\"] <= 32,student_data))\n",
    "age_small"
   ]
  },
  {
   "cell_type": "code",
   "execution_count": 41,
   "id": "7423bcb0",
   "metadata": {},
   "outputs": [
    {
     "data": {
      "text/plain": [
       "[{'Name': 'Virat Kohli', 'Age': 36, 'Job': 'Cricketer', 'Salary': 20000},\n",
       " {'Name': 'Satya Nadella', 'Age': 56, 'Job': 'CEO', 'Salary': 150000},\n",
       " {'Name': 'Sundar Pichai', 'Age': 52, 'Job': 'Engineer', 'Salary': 140000},\n",
       " {'Name': 'Rohit Sharma', 'Age': 37, 'Job': 'Cricketer', 'Salary': 18000},\n",
       " {'Name': 'Ramesh Singh', 'Age': 45, 'Job': 'Teacher', 'Salary': 55000},\n",
       " {'Name': 'Karan Patel', 'Age': 34, 'Job': 'Lawyer', 'Salary': 110000}]"
      ]
     },
     "execution_count": 41,
     "metadata": {},
     "output_type": "execute_result"
    }
   ],
   "source": [
    "age_big = list(filter(lambda x:x[\"Age\"]>32,student_data))\n",
    "age_big"
   ]
  },
  {
   "cell_type": "code",
   "execution_count": 56,
   "id": "9d31578e",
   "metadata": {},
   "outputs": [
    {
     "data": {
      "text/plain": [
       "[{'Name': 'Virat Kohli', 'Age': 36, 'Job': 'Cricketer', 'Salary': 20000},\n",
       " {'Name': 'Satya Nadella', 'Age': 56, 'Job': 'CEO', 'Salary': 150000},\n",
       " {'Name': 'Sundar Pichai', 'Age': 52, 'Job': 'Engineer', 'Salary': 140000},\n",
       " {'Name': 'Rohit Sharma', 'Age': 37, 'Job': 'Cricketer', 'Salary': 18000},\n",
       " {'Name': 'Neha Sharma', 'Age': 28, 'Job': 'Data Scientist', 'Salary': 95000},\n",
       " {'Name': 'Amit Kumar',\n",
       "  'Age': 31,\n",
       "  'Job': 'Software Developer',\n",
       "  'Salary': 80000},\n",
       " {'Name': 'Priya Verma', 'Age': 26, 'Job': 'UX Designer', 'Salary': 70000},\n",
       " {'Name': 'Ramesh Singh', 'Age': 45, 'Job': 'Teacher', 'Salary': 55000},\n",
       " {'Name': 'Anjali Mehta', 'Age': 30, 'Job': 'Doctor', 'Salary': 120000},\n",
       " {'Name': 'Karan Patel', 'Age': 34, 'Job': 'Lawyer', 'Salary': 110000}]"
      ]
     },
     "execution_count": 56,
     "metadata": {},
     "output_type": "execute_result"
    }
   ],
   "source": [
    "student_data"
   ]
  },
  {
   "cell_type": "code",
   "execution_count": 59,
   "id": "d74a5acb",
   "metadata": {},
   "outputs": [
    {
     "data": {
      "text/plain": [
       "[{'Name': 'Virat Kohli', 'Age': 36, 'Job': 'Cricketer', 'Salary': 20000},\n",
       " {'Name': 'Rohit Sharma', 'Age': 37, 'Job': 'Cricketer', 'Salary': 18000},\n",
       " {'Name': 'Ramesh Singh', 'Age': 45, 'Job': 'Teacher', 'Salary': 55000}]"
      ]
     },
     "execution_count": 59,
     "metadata": {},
     "output_type": "execute_result"
    }
   ],
   "source": [
    "low_paid_employee = list(filter(lambda x : x[\"Salary\"]<=60000,student_data))\n",
    "low_paid_employee"
   ]
  },
  {
   "cell_type": "code",
   "execution_count": null,
   "id": "1653000c",
   "metadata": {},
   "outputs": [
    {
     "data": {
      "text/plain": [
       "[{'Name': 'Satya Nadella', 'Age': 56, 'Job': 'CEO', 'Salary': 150000},\n",
       " {'Name': 'Sundar Pichai', 'Age': 52, 'Job': 'Engineer', 'Salary': 140000},\n",
       " {'Name': 'Neha Sharma', 'Age': 28, 'Job': 'Data Scientist', 'Salary': 95000},\n",
       " {'Name': 'Amit Kumar',\n",
       "  'Age': 31,\n",
       "  'Job': 'Software Developer',\n",
       "  'Salary': 80000},\n",
       " {'Name': 'Priya Verma', 'Age': 26, 'Job': 'UX Designer', 'Salary': 70000},\n",
       " {'Name': 'Anjali Mehta', 'Age': 30, 'Job': 'Doctor', 'Salary': 120000},\n",
       " {'Name': 'Karan Patel', 'Age': 34, 'Job': 'Lawyer', 'Salary': 110000}]"
      ]
     },
     "execution_count": 60,
     "metadata": {},
     "output_type": "execute_result"
    }
   ],
   "source": [
    "high_paid_employee = list(filter(lambda x : x[\"Salary\"]>60000,student_data))\n",
    "high_paid_employee"
   ]
  },
  {
   "cell_type": "code",
   "execution_count": 66,
   "id": "fe0cd669",
   "metadata": {},
   "outputs": [
    {
     "name": "stdout",
     "output_type": "stream",
     "text": [
      "True\n",
      "{40, 50, 60, 30}\n",
      "{70, 40, 10, 80, 50, 20, 90, 60, 30}\n"
     ]
    }
   ],
   "source": [
    "lst1 = {10,20,30,40,60,70,80,90}\n",
    "lst2 = {30,40,50,60}\n",
    "print(lst2.issubset(lst2))\n",
    "print(lst2.intersection(lst2))\n",
    "print(lst2.union(lst1))"
   ]
  },
  {
   "cell_type": "code",
   "execution_count": 67,
   "id": "d8fade3c",
   "metadata": {},
   "outputs": [
    {
     "data": {
      "text/plain": [
       "{30, 40, 60}"
      ]
     },
     "execution_count": 67,
     "metadata": {},
     "output_type": "execute_result"
    }
   ],
   "source": [
    "lst2 & lst1"
   ]
  },
  {
   "cell_type": "code",
   "execution_count": 68,
   "id": "a4cf539d",
   "metadata": {},
   "outputs": [
    {
     "data": {
      "text/plain": [
       "{10, 20, 30, 40, 50, 60, 70, 80, 90}"
      ]
     },
     "execution_count": 68,
     "metadata": {},
     "output_type": "execute_result"
    }
   ],
   "source": [
    "lst2 | lst1"
   ]
  },
  {
   "cell_type": "code",
   "execution_count": 75,
   "id": "cf765a9b",
   "metadata": {},
   "outputs": [
    {
     "name": "stdout",
     "output_type": "stream",
     "text": [
      "i\n",
      "am\n",
      "King\tslayer\n"
     ]
    }
   ],
   "source": [
    "with open(\"file.txt\",\"w+\") as file:\n",
    "    file.write('i\\nam\\nKing\\tslayer')   \n",
    "with open(\"file.txt\",\"r+\") as file:\n",
    "    print(file.read())      "
   ]
  },
  {
   "cell_type": "code",
   "execution_count": null,
   "id": "e54567ea",
   "metadata": {},
   "outputs": [
    {
     "data": {
      "text/plain": [
       "datetime.date(2025, 4, 30)"
      ]
     },
     "execution_count": 89,
     "metadata": {},
     "output_type": "execute_result"
    }
   ],
   "source": [
    "import datetime as dt \n",
    "dt.date.today()"
   ]
  },
  {
   "cell_type": "code",
   "execution_count": 91,
   "id": "4707d650",
   "metadata": {},
   "outputs": [
    {
     "name": "stdout",
     "output_type": "stream",
     "text": [
      "2025-04-30 20:08:55.569805\n"
     ]
    }
   ],
   "source": [
    "print(dt.datetime.today())"
   ]
  },
  {
   "cell_type": "code",
   "execution_count": null,
   "id": "e33ac2f8",
   "metadata": {},
   "outputs": [
    {
     "data": {
      "text/plain": [
       "datetime.date(2020, 11, 26)"
      ]
     },
     "execution_count": 94,
     "metadata": {},
     "output_type": "execute_result"
    }
   ],
   "source": [
    "dates = dt.date(2020,11,26)\n",
    "dates\n",
    "dates(\"M\")"
   ]
  },
  {
   "cell_type": "code",
   "execution_count": 101,
   "id": "3ebed06c",
   "metadata": {},
   "outputs": [
    {
     "data": {
      "text/plain": [
       "'20'"
      ]
     },
     "execution_count": 101,
     "metadata": {},
     "output_type": "execute_result"
    }
   ],
   "source": [
    "dates.strftime(\"%y\")"
   ]
  },
  {
   "cell_type": "code",
   "execution_count": 102,
   "id": "031e84ac",
   "metadata": {},
   "outputs": [],
   "source": [
    "times = dt.time(12,35,52)"
   ]
  },
  {
   "cell_type": "code",
   "execution_count": 105,
   "id": "80a2f62d",
   "metadata": {},
   "outputs": [
    {
     "data": {
      "text/plain": [
       "'35'"
      ]
     },
     "execution_count": 105,
     "metadata": {},
     "output_type": "execute_result"
    }
   ],
   "source": [
    "times.strftime(\"%M\")"
   ]
  },
  {
   "cell_type": "code",
   "execution_count": null,
   "id": "f32d6268",
   "metadata": {},
   "outputs": [
    {
     "data": {
      "text/plain": [
       "datetime.datetime(2025, 4, 30, 14, 49, 27, 908789, tzinfo=datetime.timezone.utc)"
      ]
     },
     "execution_count": 107,
     "metadata": {},
     "output_type": "execute_result"
    }
   ],
   "source": [
    "from datetime import datetime,timezone,timedelta,relativedelta\n",
    "datetime.now(timezone.utc)"
   ]
  },
  {
   "cell_type": "code",
   "execution_count": 108,
   "id": "3a4e6982",
   "metadata": {},
   "outputs": [
    {
     "name": "stdout",
     "output_type": "stream",
     "text": [
      "100\n"
     ]
    }
   ],
   "source": [
    "a = [10,20,30,40]\n",
    "from functools import reduce\n",
    "print(reduce(lambda x,y : x + y ,a))"
   ]
  },
  {
   "cell_type": "code",
   "execution_count": 109,
   "id": "a3e2abcf",
   "metadata": {},
   "outputs": [
    {
     "name": "stdout",
     "output_type": "stream",
     "text": [
      "0.5\n"
     ]
    }
   ],
   "source": [
    "a = int(input())\n",
    "b = int(input())\n",
    "def add_num(a,b):\n",
    "    try:\n",
    "       c = a/b\n",
    "       return c\n",
    "    except:\n",
    "        return ZeroDivisionError \n",
    "    finally :\n",
    "        return c     \n",
    "print(add_num(a,b))      \n"
   ]
  },
  {
   "cell_type": "code",
   "execution_count": 1,
   "id": "3aa79220",
   "metadata": {},
   "outputs": [
    {
     "data": {
      "text/plain": [
       "'i am King slayer'"
      ]
     },
     "execution_count": 1,
     "metadata": {},
     "output_type": "execute_result"
    }
   ],
   "source": [
    "def welcome():\n",
    "    return \"i am King slayer\"\n",
    "welcome()"
   ]
  },
  {
   "cell_type": "code",
   "execution_count": 4,
   "id": "d56cc363",
   "metadata": {},
   "outputs": [],
   "source": [
    "def family(msg):\n",
    "    def father():\n",
    "        print(msg)\n",
    "        print(\"Hari Krishna\")\n",
    "        def mother():\n",
    "            print(\"Nagendra Mani\")\n",
    "        return mother()\n",
    "    return father()    \n",
    "\n"
   ]
  },
  {
   "cell_type": "code",
   "execution_count": 5,
   "id": "a353eea9",
   "metadata": {},
   "outputs": [
    {
     "name": "stdout",
     "output_type": "stream",
     "text": [
      "Welcome to Family\n",
      "Hari Krishna\n",
      "Nagendra Mani\n"
     ]
    }
   ],
   "source": [
    "family(\"Welcome to Family\")"
   ]
  },
  {
   "cell_type": "code",
   "execution_count": 18,
   "id": "cea81a19",
   "metadata": {},
   "outputs": [
    {
     "name": "stdout",
     "output_type": "stream",
     "text": [
      "220\n",
      "73.33333333333333\n"
     ]
    }
   ],
   "source": [
    "a = [55,66,99]\n",
    "def total_marks(a):\n",
    "    def sum_marks():\n",
    "        print(sum(a))  \n",
    "    def percen_marks():\n",
    "        print((sum(a)/300) * 100)\n",
    "    sum_marks()\n",
    "    percen_marks() \n",
    "total_marks(a)         "
   ]
  },
  {
   "cell_type": "code",
   "execution_count": 36,
   "id": "c4121032",
   "metadata": {},
   "outputs": [
    {
     "data": {
      "text/plain": [
       "6"
      ]
     },
     "execution_count": 36,
     "metadata": {},
     "output_type": "execute_result"
    }
   ],
   "source": [
    "def extra_sum(f):\n",
    "    def inner(x,y):\n",
    "        if (x%y==0 and y%2==0):\n",
    "            return f(x,y)\n",
    "        else:\n",
    "            return \"enter only even numbers\"\n",
    "    return inner\n",
    "a = int(input())\n",
    "b = int(input())\n",
    "@extra_sum\n",
    "def add(a,b):\n",
    "    return a + b \n",
    "add(a,b)         \n"
   ]
  },
  {
   "cell_type": "code",
   "execution_count": 37,
   "id": "fd014c39",
   "metadata": {},
   "outputs": [],
   "source": [
    "admin_list = [\n",
    "    {\"ID\": 1, \"Name\": \"Virat\", \"Job_role\": \"Full-Stack Developer\"},\n",
    "    {\"ID\": 2, \"Name\": \"Anjali\", \"Job_role\": \"Backend Developer\"},\n",
    "    {\"ID\": 3, \"Name\": \"Rohit\", \"Job_role\": \"Frontend Developer\"},\n",
    "    {\"ID\": 4, \"Name\": \"Sneha\", \"Job_role\": \"Data Scientist\"},\n",
    "    {\"ID\": 5, \"Name\": \"Amit\", \"Job_role\": \"DevOps Engineer\"}\n",
    "]\n",
    "user_list = [\n",
    "    {\"ID\": 1, \"Name\": \"Priya\", \"Job_role\": \"UI/UX Designer\"},\n",
    "    {\"ID\": 2, \"Name\": \"Karan\", \"Job_role\": \"Mobile App Developer\"},\n",
    "    {\"ID\": 3, \"Name\": \"Neha\", \"Job_role\": \"QA Engineer\"},\n",
    "    {\"ID\": 4, \"Name\": \"Arjun\", \"Job_role\": \"Cloud Engineer\"},\n",
    "    {\"ID\": 5, \"Name\": \"Meena\", \"Job_role\": \"Business Analyst\"}\n",
    "]"
   ]
  },
  {
   "cell_type": "code",
   "execution_count": null,
   "id": "128dffdd",
   "metadata": {},
   "outputs": [],
   "source": [
    "def login(func):\n",
    "    def wrapper():\n",
    "        if func==\"admin\":\n",
    "            name = str(input())\n",
    "            [i.get(name) for i in admin_list]\n",
    "    return wrapper \n",
    "@login \n",
    "\n",
    "\n",
    "def read_data(a):\n",
    "   return \"Welcome\"\n",
    "\n",
    "role = str(input()) \n",
    "                \n",
    "read_data(role)"
   ]
  },
  {
   "cell_type": "code",
   "execution_count": 1,
   "id": "eb0ce960",
   "metadata": {},
   "outputs": [
    {
     "name": "stdout",
     "output_type": "stream",
     "text": [
      "Admin Access Granted: Virat - Full-Stack Developer\n",
      "Welcome to the system!\n"
     ]
    }
   ],
   "source": [
    "admin_list = [\n",
    "    {\"ID\": 1, \"Name\": \"Virat\", \"Job_role\": \"Full-Stack Developer\"},\n",
    "    {\"ID\": 2, \"Name\": \"Anjali\", \"Job_role\": \"Backend Developer\"},\n",
    "    {\"ID\": 3, \"Name\": \"Rohit\", \"Job_role\": \"Frontend Developer\"},\n",
    "    {\"ID\": 4, \"Name\": \"Sneha\", \"Job_role\": \"Data Scientist\"},\n",
    "    {\"ID\": 5, \"Name\": \"Amit\", \"Job_role\": \"DevOps Engineer\"}\n",
    "]\n",
    "\n",
    "user_list = [\n",
    "    {\"ID\": 1, \"Name\": \"Priya\", \"Job_role\": \"UI/UX Designer\"},\n",
    "    {\"ID\": 2, \"Name\": \"Karan\", \"Job_role\": \"Mobile App Developer\"},\n",
    "    {\"ID\": 3, \"Name\": \"Neha\", \"Job_role\": \"QA Engineer\"},\n",
    "    {\"ID\": 4, \"Name\": \"Arjun\", \"Job_role\": \"Cloud Engineer\"},\n",
    "    {\"ID\": 5, \"Name\": \"Meena\", \"Job_role\": \"Business Analyst\"}\n",
    "]\n",
    "\n",
    "def login(func):\n",
    "    def wrapper(role):\n",
    "        name = input(\"Enter your name: \")\n",
    "        if role == \"admin\":\n",
    "            for admin in admin_list:\n",
    "                if admin[\"Name\"].lower() == name.lower():\n",
    "                    print(f\"Admin Access Granted: {admin['Name']} - {admin['Job_role']}\")\n",
    "                    return func(role)\n",
    "            print(\"Admin not found.\")\n",
    "        elif role == \"user\":\n",
    "            for user in user_list:\n",
    "                if user[\"Name\"].lower() == name.lower():\n",
    "                    print(f\"User Access Granted: {user['Name']} - {user['Job_role']}\")\n",
    "                    return func(role)\n",
    "            print(\"User not found.\")\n",
    "        else:\n",
    "            print(\"Invalid role.\")\n",
    "    return wrapper\n",
    "\n",
    "@login\n",
    "def read_data(role):\n",
    "    return \"Welcome to the system!\"\n",
    "\n",
    "role_input = input(\"Enter role (admin/user): \").lower()\n",
    "print(read_data(role_input))\n"
   ]
  },
  {
   "cell_type": "code",
   "execution_count": null,
   "id": "65ebd21e",
   "metadata": {},
   "outputs": [],
   "source": []
  }
 ],
 "metadata": {
  "kernelspec": {
   "display_name": "Python 3",
   "language": "python",
   "name": "python3"
  },
  "language_info": {
   "codemirror_mode": {
    "name": "ipython",
    "version": 3
   },
   "file_extension": ".py",
   "mimetype": "text/x-python",
   "name": "python",
   "nbconvert_exporter": "python",
   "pygments_lexer": "ipython3",
   "version": "3.12.8"
  }
 },
 "nbformat": 4,
 "nbformat_minor": 5
}
