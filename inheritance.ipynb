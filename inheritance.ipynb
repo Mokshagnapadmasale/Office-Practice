{
 "cells": [
  {
   "cell_type": "code",
   "execution_count": 14,
   "id": "3851b33e",
   "metadata": {},
   "outputs": [
    {
     "data": {
      "text/plain": [
       "('mokshagna', 22)"
      ]
     },
     "execution_count": 14,
     "metadata": {},
     "output_type": "execute_result"
    }
   ],
   "source": [
    "class Student:\n",
    "    def __init__(self,Name,age):\n",
    "        self.Name = Name \n",
    "        self.age = age     \n",
    "    def attendence(self):\n",
    "        print(f\"self.Name : {self.Name} is Present and his age is {self.age}\")\n",
    "\n",
    "a = Student(\"mokshagna\",22)\n",
    "a.Name,a.age\n"
   ]
  },
  {
   "cell_type": "code",
   "execution_count": 16,
   "id": "22a5591a",
   "metadata": {},
   "outputs": [
    {
     "name": "stdout",
     "output_type": "stream",
     "text": [
      "self.Name : mokshagna is Present and his age is 22\n"
     ]
    }
   ],
   "source": [
    "a.attendence()"
   ]
  },
  {
   "cell_type": "code",
   "execution_count": 19,
   "id": "d5375f66",
   "metadata": {},
   "outputs": [],
   "source": [
    "class BankAccount:\n",
    "    def __init__(self,owner,balance=0):\n",
    "        self.owner = owner \n",
    "        self.balance = balance \n",
    "    def deposit(self,amount):\n",
    "        self.balance += amount \n",
    "        print(f\"new Balance : {self.balance}\")\n",
    "    def withdraw(self,amount):\n",
    "        if amount > self.balance:\n",
    "            print(\"balance is low\")\n",
    "        else:\n",
    "            self.balance -= amount\n",
    "            print(f\"new Balance : {self.balance}\")\n",
    "\n",
    "\n",
    "a = BankAccount(\"Mokshagna\",5000)                \n",
    "    "
   ]
  },
  {
   "cell_type": "code",
   "execution_count": 20,
   "id": "e0c215c3",
   "metadata": {},
   "outputs": [
    {
     "name": "stdout",
     "output_type": "stream",
     "text": [
      "new Balance : 10000\n"
     ]
    }
   ],
   "source": [
    "a.deposit(5000)"
   ]
  },
  {
   "cell_type": "code",
   "execution_count": 21,
   "id": "8b6fb5fa",
   "metadata": {},
   "outputs": [
    {
     "name": "stdout",
     "output_type": "stream",
     "text": [
      "new Balance : 5000\n"
     ]
    }
   ],
   "source": [
    "a.withdraw(5000)"
   ]
  },
  {
   "cell_type": "code",
   "execution_count": 41,
   "id": "8b80fa32",
   "metadata": {},
   "outputs": [],
   "source": [
    "class GrandParents:\n",
    "    def __init__(self,grandfather,grandmother):\n",
    "        self.grandfather = grandfather \n",
    "        self.grandmother = grandmother     \n",
    "    def grand(self):\n",
    "        return f\"We are your Grand parents {self.grandfather,self.grandmother}\"\n",
    "\n",
    "class Parents(GrandParents):\n",
    "    def __init__(self,father,mother,grandfather,grandmother):\n",
    "        super().__init__(grandfather,grandmother)\n",
    "        self.father = father \n",
    "        self.mother = mother \n",
    "    def par(self):\n",
    "         return f\"We are your parents {self.father,self.mother}\"\n",
    "class Child(Parents):\n",
    "    def __init__(self,child,father,mother,grandfather,grandmother):\n",
    "        super().__init__(father,mother,grandfather,grandmother)\n",
    "        self.child = child \n",
    "    def child(self):\n",
    "        return f\"i am your child {self.child}\"\n",
    "\n",
    "my_fam = Child(\"mokshagna\",\"hari\",\"mani\",\"hemachandra\",\"laxmamma\")\n",
    "\n"
   ]
  },
  {
   "cell_type": "code",
   "execution_count": 50,
   "id": "ffa94c74",
   "metadata": {},
   "outputs": [
    {
     "data": {
      "text/plain": [
       "\"We are your parents ('hari', 'mani')\""
      ]
     },
     "execution_count": 50,
     "metadata": {},
     "output_type": "execute_result"
    }
   ],
   "source": [
    "my_fam.par()"
   ]
  },
  {
   "cell_type": "code",
   "execution_count": 62,
   "id": "d662c032",
   "metadata": {},
   "outputs": [
    {
     "name": "stdout",
     "output_type": "stream",
     "text": [
      "{'class': 4, 'Teacher': 'Ms.Lakshmi', 'boy_name': 'Arjun', 'girl': 'Ananya'}\n"
     ]
    }
   ],
   "source": [
    "class Teacher:\n",
    "    def __init__(self, teacher_name, age):\n",
    "        self.teacher_name = teacher_name\n",
    "        self.age = age\n",
    "\n",
    "    def call_teacher(self):\n",
    "        return f\"Teacher Name is : {self.teacher_name} and his/her age is {self.age}\"\n",
    "\n",
    "class Boy(Teacher):\n",
    "    def __init__(self, boy_name, teacher_name, age):\n",
    "        Teacher.__init__(self, teacher_name, age)\n",
    "        self.boy_name = boy_name\n",
    "\n",
    "    def call_boy(self):\n",
    "        return f\"Boy name : {self.boy_name}\"\n",
    "\n",
    "class girl(Teacher):\n",
    "    def __init__(self, girl_name, teacher_name, age):\n",
    "        Teacher.__init__(self, teacher_name, age)\n",
    "        self.girl_name = girl_name\n",
    "\n",
    "    def call_girl(self):\n",
    "        return f\"Girl name : {self.girl_name}\"\n",
    "\n",
    "class fourth_Class(Boy, girl):\n",
    "    def __init__(self, teacher_name, age, boy_name, girl_name):\n",
    "        Boy.__init__(self, boy_name, teacher_name, age)\n",
    "        girl.__init__(self, girl_name, teacher_name, age)\n",
    "\n",
    "    def class_students_teacher(self):\n",
    "        return {\n",
    "            \"class\": 4,\n",
    "            \"Teacher\": self.teacher_name,\n",
    "            \"boy_name\": self.boy_name,\n",
    "            \"girl\": self.girl_name\n",
    "        }\n",
    "\n",
    "# Test it\n",
    "my_class = fourth_Class(\"Ms.Lakshmi\", 35, \"Arjun\", \"Ananya\")\n",
    "print(my_class.class_students_teacher())\n"
   ]
  },
  {
   "cell_type": "code",
   "execution_count": 70,
   "id": "a1391408",
   "metadata": {},
   "outputs": [
    {
     "name": "stdout",
     "output_type": "stream",
     "text": [
      "{'Name of the tournament': 'kings cup', 'Name of the cricketer': 'kohli', 'Name of the footballer': 'ronaldo'}\n"
     ]
    }
   ],
   "source": [
    "class Sports:\n",
    "    def __init__(self,Name):\n",
    "        self.Name = Name \n",
    "    def call_sports(self):\n",
    "        return f\"The Sports Name is: {self.Name}\" \n",
    "\n",
    "\n",
    "class Cricket(Sports):\n",
    "    def __init__(self,Name,name_cricketer):\n",
    "        Sports.__init__(self,Name)\n",
    "        self.name_cricketer = name_cricketer\n",
    "    def call_cricketer_name(self):\n",
    "        return f\"The cricketer name is: {self.name_cricketer}\"\n",
    "\n",
    "\n",
    "class Football(Sports):\n",
    "    def __init__(self,Name,name_footballer):\n",
    "        Sports.__init__(self,Name)\n",
    "        self.name_footballer = name_footballer \n",
    "    def call_footballer_name(self):\n",
    "        return f\"The cricketer name is: {self.name_footballer}\"\n",
    "\n",
    "\n",
    "class Olympics(Cricket,Football):\n",
    "    def __init__(self, Name, name_cricketer,name_footballer):\n",
    "        Cricket.__init__(self,Name,name_cricketer)\n",
    "        Football.__init__(self,Name,name_footballer)\n",
    "    def tournament(self):\n",
    "        return {\n",
    "            \"Name of the tournament\" : self.Name,\n",
    "            \"Name of the cricketer\" : self.name_cricketer,\n",
    "            \"Name of the footballer\" : self.name_footballer  \n",
    "        }\n",
    "\n",
    "\n",
    "my = Olympics(\"kings cup\",\"kohli\",\"ronaldo\")\n",
    "print(my.tournament())"
   ]
  },
  {
   "cell_type": "code",
   "execution_count": 72,
   "id": "41181562",
   "metadata": {},
   "outputs": [
    {
     "name": "stdout",
     "output_type": "stream",
     "text": [
      "{'Name of the tournament': 'Kings Cup', 'Name of the cricketer': 'Kohli', 'Name of the footballer': 'Ronaldo'}\n"
     ]
    }
   ],
   "source": [
    "class Sports:\n",
    "    def __init__(self, Name, **kwargs):\n",
    "        super().__init__(**kwargs)\n",
    "        self.Name = Name\n",
    "\n",
    "    def call_sports(self):\n",
    "        return f\"The Sports Name is: {self.Name}\"\n",
    "\n",
    "\n",
    "class Cricket(Sports):\n",
    "    def __init__(self, name_cricketer, **kwargs):\n",
    "        super().__init__(**kwargs)\n",
    "        self.name_cricketer = name_cricketer\n",
    "\n",
    "    def call_cricketer_name(self):\n",
    "        return f\"The cricketer name is: {self.name_cricketer}\"\n",
    "\n",
    "\n",
    "class Football(Sports):\n",
    "    def __init__(self, name_footballer, **kwargs):\n",
    "        super().__init__(**kwargs)\n",
    "        self.name_footballer = name_footballer\n",
    "\n",
    "    def call_footballer_name(self):\n",
    "        return f\"The footballer name is: {self.name_footballer}\"\n",
    "\n",
    "\n",
    "class Olympics(Cricket, Football):\n",
    "    def __init__(self, Name, name_cricketer, name_footballer):\n",
    "        super().__init__(Name=Name, name_cricketer=name_cricketer, name_footballer=name_footballer)\n",
    "\n",
    "    def tournament(self):\n",
    "        return {\n",
    "            \"Name of the tournament\": self.Name,\n",
    "            \"Name of the cricketer\": self.name_cricketer,\n",
    "            \"Name of the footballer\": self.name_footballer\n",
    "        }\n",
    "\n",
    "\n",
    "my = Olympics(\"Kings Cup\", \"Kohli\", \"Ronaldo\")\n",
    "print(my.tournament())\n"
   ]
  },
  {
   "cell_type": "code",
   "execution_count": null,
   "id": "6788f6cc",
   "metadata": {},
   "outputs": [],
   "source": []
  },
  {
   "cell_type": "code",
   "execution_count": null,
   "id": "3af8f6cf",
   "metadata": {},
   "outputs": [],
   "source": []
  },
  {
   "cell_type": "code",
   "execution_count": null,
   "id": "ec96f98c",
   "metadata": {},
   "outputs": [],
   "source": []
  }
 ],
 "metadata": {
  "kernelspec": {
   "display_name": "Python 3",
   "language": "python",
   "name": "python3"
  },
  "language_info": {
   "codemirror_mode": {
    "name": "ipython",
    "version": 3
   },
   "file_extension": ".py",
   "mimetype": "text/x-python",
   "name": "python",
   "nbconvert_exporter": "python",
   "pygments_lexer": "ipython3",
   "version": "3.12.8"
  }
 },
 "nbformat": 4,
 "nbformat_minor": 5
}
