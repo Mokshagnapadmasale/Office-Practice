{
 "cells": [
  {
   "cell_type": "code",
   "execution_count": 15,
   "id": "79ad8f57",
   "metadata": {},
   "outputs": [
    {
     "data": {
      "text/plain": [
       "'Both Virat and Rohit played thier trademark shots cover drive , pull shot against australia today  in an ICC Tournament'"
      ]
     },
     "execution_count": 15,
     "metadata": {},
     "output_type": "execute_result"
    }
   ],
   "source": [
    "class Cricket:\n",
    "    def __init__(self,Name,**kwargs):\n",
    "        super().__init__(**kwargs)\n",
    "        self.Name = Name \n",
    "class Virat(Cricket):\n",
    "    def __init__(self,shot_name_virat,**kwargs):\n",
    "        super().__init__(**kwargs)\n",
    "        self.shot_name_virat = shot_name_virat\n",
    "    def played(self):\n",
    "        return f\"Virat played : {self.shot_name_virat} in Tournament : {self.Name}\"     \n",
    "class Rohit(Cricket):\n",
    "    def __init__(self,shot_name_rohit,**kwargs):\n",
    "        super().__init__(**kwargs)\n",
    "        self.shot_name_rohit = shot_name_rohit\n",
    "    def played(self):\n",
    "        return f\"Rohith played : {self.shot_name_rohit} in Tournament : {self.Name}\"\n",
    "class Indians(Virat,Rohit):\n",
    "    def __init__(self, Name, shot_name_virat,shot_name_rohit):\n",
    "        super().__init__(shot_name_virat=shot_name_virat,shot_name_rohit=shot_name_rohit,Name=Name)\n",
    "    def ind_vs_aus(self):\n",
    "        return f\"Both Virat and Rohit played thier trademark shots {self.shot_name_virat} , {self.shot_name_rohit} against australia today  in an {self.Name} Tournament\" \n",
    "ia = Indians(\"ICC\",\"cover drive\",\"pull shot\")    \n",
    "ia.ind_vs_aus()   "
   ]
  },
  {
   "cell_type": "code",
   "execution_count": 16,
   "id": "396b49a0",
   "metadata": {},
   "outputs": [
    {
     "data": {
      "text/plain": [
       "'Virat played : cover drive in Tournament : ICC'"
      ]
     },
     "execution_count": 16,
     "metadata": {},
     "output_type": "execute_result"
    }
   ],
   "source": [
    "ia.played()"
   ]
  },
  {
   "cell_type": "code",
   "execution_count": null,
   "id": "157a9d5a",
   "metadata": {},
   "outputs": [],
   "source": []
  }
 ],
 "metadata": {
  "kernelspec": {
   "display_name": "Python 3",
   "language": "python",
   "name": "python3"
  },
  "language_info": {
   "codemirror_mode": {
    "name": "ipython",
    "version": 3
   },
   "file_extension": ".py",
   "mimetype": "text/x-python",
   "name": "python",
   "nbconvert_exporter": "python",
   "pygments_lexer": "ipython3",
   "version": "3.12.8"
  }
 },
 "nbformat": 4,
 "nbformat_minor": 5
}
