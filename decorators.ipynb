{
 "cells": [
  {
   "cell_type": "code",
   "execution_count": 1,
   "id": "c834d83b",
   "metadata": {},
   "outputs": [],
   "source": [
    "\n",
    "admin_list = [\n",
    "    {\"ID\": 1, \"Name\": \"Virat\", \"Job_role\": \"Full-Stack Developer\", \"Password\": \"virat123\"},\n",
    "    {\"ID\": 2, \"Name\": \"Anjali\", \"Job_role\": \"Backend Developer\", \"Password\": \"anjali456\"},\n",
    "    {\"ID\": 3, \"Name\": \"Rohit\", \"Job_role\": \"Frontend Developer\", \"Password\": \"rohit789\"},\n",
    "    {\"ID\": 4, \"Name\": \"Sneha\", \"Job_role\": \"Data Scientist\", \"Password\": \"sneha321\"},\n",
    "    {\"ID\": 5, \"Name\": \"Amit\", \"Job_role\": \"DevOps Engineer\", \"Password\": \"amit999\"}\n",
    "]\n",
    "\n",
    "user_list = [\n",
    "    {\"ID\": 1, \"Name\": \"Priya\", \"Job_role\": \"UI/UX Designer\", \"Password\": \"priya321\"},\n",
    "    {\"ID\": 2, \"Name\": \"Karan\", \"Job_role\": \"Mobile App Developer\", \"Password\": \"karan789\"},\n",
    "    {\"ID\": 3, \"Name\": \"Neha\", \"Job_role\": \"QA Engineer\", \"Password\": \"neha111\"},\n",
    "    {\"ID\": 4, \"Name\": \"Arjun\", \"Job_role\": \"Cloud Engineer\", \"Password\": \"arjun222\"},\n",
    "    {\"ID\": 5, \"Name\": \"Meena\", \"Job_role\": \"Business Analyst\", \"Password\": \"meena333\"}\n",
    "]\n"
   ]
  },
  {
   "cell_type": "code",
   "execution_count": 13,
   "id": "5d71195a",
   "metadata": {},
   "outputs": [
    {
     "name": "stdout",
     "output_type": "stream",
     "text": [
      "Admin access granted : Virat - Full-Stack Developer at 2025-05-02 12:53:32.004130\n",
      "Welcome to the System\n"
     ]
    }
   ],
   "source": [
    "from datetime import datetime,timezone,timedelta \n",
    "roles = str(input(\"enter admin/user\"))\n",
    "def login(func):\n",
    "    def wrapper(roles):\n",
    "        try:\n",
    "            if roles == \"admin\":\n",
    "                name = str(input(\"enter Name\"))\n",
    "                password = str(input(\"enter your password\"))\n",
    "                for i in admin_list:\n",
    "                    if name == i.get(\"Name\") and password == i.get(\"Password\") :\n",
    "                        print(f\"Admin access granted : {i.get('Name')} - {i.get('Job_role')} at {datetime.now()}\")\n",
    "                        return func()\n",
    "            elif roles == \"user\":\n",
    "                name = str(input(\"enter Name\"))\n",
    "                password = str(input(\"enter your password\"))\n",
    "                for i in user_list:\n",
    "                    if name == i.get(\"Name\") and password == i.get(\"Password\") :\n",
    "                        print(f\"user access granted : {i.get('Name')} - {i.get('Job_role')} at {datetime.now()}\")\n",
    "                        return func()\n",
    "            raise Exception(\"Access Denied: Invalid credentials\")\n",
    "        except KeyError:\n",
    "             raise Exception(\"Invalid\")\n",
    "    return wrapper\n",
    " \n",
    "@login \n",
    "def welcome():\n",
    "    print(\"Welcome to the System\")\n",
    "\n",
    "welcome(roles) "
   ]
  },
  {
   "cell_type": "code",
   "execution_count": null,
   "id": "0a2709ab",
   "metadata": {},
   "outputs": [
    {
     "name": "stdout",
     "output_type": "stream",
     "text": [
      "Name:Moksha - Job_role:cricketer\n",
      "welcome New User\n"
     ]
    }
   ],
   "source": [
    "roles_register = str(input(\"enter admin/user to be registered\"))\n",
    "def register(func):\n",
    "    def wrapper(roles):\n",
    "        try:\n",
    "            if roles == \"admin\":\n",
    "                Name = str(input(\"Enter Name\"))\n",
    "                Job_role = str(input(\"Enter your Job Role\"))\n",
    "                password = str(input(\"Enter your password\"))\n",
    "                ID = len(admin_list) + 1\n",
    "                new_data = {\"ID\": ID, \"Name\": Name, \"Job_role\": Job_role, \"Password\" : password}\n",
    "                admin_list.append(new_data)\n",
    "                print(f\"Name:{new_data.get(\"Name\")} - Job_role:{new_data.get('Job_role')}\")\n",
    "            elif roles == \"user\":\n",
    "                Name = str(input(\"Enter Name\"))\n",
    "                Job_role = str(input(\"Enter your Job Role\"))\n",
    "                password = str(input(\"Enter your password\"))\n",
    "                ID = len(user_list) + 1\n",
    "                new_data = {\"ID\": ID, \"Name\": Name, \"Job_role\": Job_role, \"Password\" : password}\n",
    "                user_list.append(new_data)\n",
    "                print(f\"Name: {new_data.get(\"Name\")} - Job_role: {new_data.get('Job_role')}\")\n",
    "            else:    \n",
    "                raise Exception(\"invalid Role Entered\")\n",
    "            return func()\n",
    "        except:\n",
    "            raise Exception(\"Invalid Credentials\")    \n",
    "    return wrapper\n",
    "@register\n",
    "def welcome_new_user():\n",
    "    print(\"welcome New User\")\n",
    "welcome_new_user(roles_register)\n",
    "     "
   ]
  },
  {
   "cell_type": "code",
   "execution_count": 23,
   "id": "ab06ce30",
   "metadata": {},
   "outputs": [
    {
     "name": "stdout",
     "output_type": "stream",
     "text": [
      "{'ID': 1, 'Name': 'Virat', 'Job_role': 'Full-Stack Developer', 'Password': 'virat123'}\n",
      "{'ID': 2, 'Name': 'Anjali', 'Job_role': 'Backend Developer', 'Password': 'anjali456'}\n",
      "{'ID': 3, 'Name': 'Rohit', 'Job_role': 'Frontend Developer', 'Password': 'rohit789'}\n",
      "{'ID': 4, 'Name': 'Sneha', 'Job_role': 'Data Scientist', 'Password': 'sneha321'}\n",
      "{'ID': 5, 'Name': 'Amit', 'Job_role': 'DevOps Engineer', 'Password': 'amit999'}\n",
      "----------------------------------------------------------------\n",
      "-----------------------------------------------------------------\n",
      "{'ID': 1, 'Name': 'Priya', 'Job_role': 'UI/UX Designer', 'Password': 'priya321'}\n",
      "{'ID': 2, 'Name': 'Karan', 'Job_role': 'Mobile App Developer', 'Password': 'karan789'}\n",
      "{'ID': 3, 'Name': 'Neha', 'Job_role': 'QA Engineer', 'Password': 'neha111'}\n",
      "{'ID': 4, 'Name': 'Arjun', 'Job_role': 'Cloud Engineer', 'Password': 'arjun222'}\n",
      "{'ID': 5, 'Name': 'Meena', 'Job_role': 'Business Analyst', 'Password': 'meena333'}\n"
     ]
    }
   ],
   "source": [
    "admin_data = [print(i) for i in admin_list]\n",
    "print(\"----------------------------------------------------------------\")\n",
    "print(\"-----------------------------------------------------------------\")\n",
    "user_data = [print(i) for i in user_list]"
   ]
  },
  {
   "cell_type": "code",
   "execution_count": 9,
   "id": "2be9fbee",
   "metadata": {},
   "outputs": [],
   "source": [
    "def decorator(func):\n",
    "    def wrapper(*args,**kwargs):\n",
    "        sum = 0\n",
    "        for i in range(len(admin_list)):\n",
    "            sum += i \n",
    "        return f\"{func()} is {sum}\" \n",
    "    return wrapper\n",
    "@decorator\n",
    "def call():\n",
    "    return \"sum of len of list\"\n"
   ]
  },
  {
   "cell_type": "code",
   "execution_count": null,
   "id": "6af2854e",
   "metadata": {},
   "outputs": [],
   "source": []
  },
  {
   "cell_type": "code",
   "execution_count": 11,
   "id": "289d19db",
   "metadata": {},
   "outputs": [
    {
     "name": "stdout",
     "output_type": "stream",
     "text": [
      "sum of len of list is 10\n"
     ]
    }
   ],
   "source": [
    "print(call())"
   ]
  },
  {
   "cell_type": "code",
   "execution_count": null,
   "id": "9c02114f",
   "metadata": {},
   "outputs": [],
   "source": []
  }
 ],
 "metadata": {
  "kernelspec": {
   "display_name": "Python 3",
   "language": "python",
   "name": "python3"
  },
  "language_info": {
   "codemirror_mode": {
    "name": "ipython",
    "version": 3
   },
   "file_extension": ".py",
   "mimetype": "text/x-python",
   "name": "python",
   "nbconvert_exporter": "python",
   "pygments_lexer": "ipython3",
   "version": "3.12.8"
  }
 },
 "nbformat": 4,
 "nbformat_minor": 5
}
