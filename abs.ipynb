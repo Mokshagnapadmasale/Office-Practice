{
 "cells": [
  {
   "cell_type": "code",
   "execution_count": 8,
   "id": "20039a7a",
   "metadata": {},
   "outputs": [
    {
     "data": {
      "text/plain": [
       "44"
      ]
     },
     "execution_count": 8,
     "metadata": {},
     "output_type": "execute_result"
    }
   ],
   "source": [
    "from abc import ABC,abstractmethod \n",
    "class Teacher(ABC):\n",
    "    def __init__(self,name,age):\n",
    "        self.name = name  \n",
    "        self.age = age \n",
    "    @abstractmethod\n",
    "    def hide(self):\n",
    "        pass \n",
    "class Maths(Teacher):\n",
    "    def hide(self):\n",
    "        return self.age + self.age      \n",
    "c = Maths(\"king\",22)   \n",
    "c.age \n",
    "c.hide()"
   ]
  },
  {
   "cell_type": "code",
   "execution_count": 25,
   "id": "81fdede8",
   "metadata": {},
   "outputs": [
    {
     "name": "stdout",
     "output_type": "stream",
     "text": [
      "The Speeds of the cars are 250 and 300 and using engine type/model X300\n",
      "False\n",
      "True\n"
     ]
    }
   ],
   "source": [
    "class Vehicle:\n",
    "    speed_car1 = 250   \n",
    "    speed_car2 = 300  \n",
    "    def __init__(self,car1,car2):\n",
    "        self.car1 = car1\n",
    "        self.car2 = car2 \n",
    "    @classmethod\n",
    "    def start_engine(cls,engine):\n",
    "        cls.cars_engine_type  = engine \n",
    "        return f\"The Speeds of the cars are {cls.speed_car1} and {cls.speed_car2} and using engine type/model {cls.cars_engine_type}\" \n",
    "    @classmethod\n",
    "    def check_valid_speed(cls):\n",
    "        return cls.speed_car1 == cls.speed_car2 \n",
    "    \n",
    "    @staticmethod\n",
    "    def speed_check(speed):\n",
    "        return 100<=speed<=300 \n",
    "A = Vehicle(\"Mercedes\",\"Audi\")\n",
    "print(Vehicle.start_engine(\"X300\"))\n",
    "print(Vehicle.check_valid_speed())    \n",
    "print(Vehicle.speed_check(250))    "
   ]
  },
  {
   "cell_type": "code",
   "execution_count": null,
   "id": "c9e353f0",
   "metadata": {},
   "outputs": [],
   "source": []
  },
  {
   "cell_type": "code",
   "execution_count": null,
   "id": "1fc6c07a",
   "metadata": {},
   "outputs": [],
   "source": []
  }
 ],
 "metadata": {
  "kernelspec": {
   "display_name": "Python 3",
   "language": "python",
   "name": "python3"
  },
  "language_info": {
   "codemirror_mode": {
    "name": "ipython",
    "version": 3
   },
   "file_extension": ".py",
   "mimetype": "text/x-python",
   "name": "python",
   "nbconvert_exporter": "python",
   "pygments_lexer": "ipython3",
   "version": "3.12.8"
  }
 },
 "nbformat": 4,
 "nbformat_minor": 5
}
