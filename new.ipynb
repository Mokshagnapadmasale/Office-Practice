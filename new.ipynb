{
 "cells": [
  {
   "cell_type": "code",
   "execution_count": 2,
   "id": "f37cc6c7",
   "metadata": {},
   "outputs": [
    {
     "name": "stdout",
     "output_type": "stream",
     "text": [
      "King\n",
      "i am King slayer\n",
      "i am God 1\n"
     ]
    }
   ],
   "source": [
    "print(\"King\")\n",
    "print(\"i am King slayer\")\n",
    "god = 1\n",
    "print(f\"i am God {god}\")"
   ]
  },
  {
   "cell_type": "code",
   "execution_count": 1,
   "id": "11df3531",
   "metadata": {},
   "outputs": [
    {
     "name": "stdout",
     "output_type": "stream",
     "text": [
      "(1, 2, 3, 4, 5)\n"
     ]
    }
   ],
   "source": [
    "a = [1,2,3,4,5]\n",
    "print(tuple(a))"
   ]
  },
  {
   "cell_type": "code",
   "execution_count": 2,
   "id": "b41302af",
   "metadata": {},
   "outputs": [
    {
     "name": "stdout",
     "output_type": "stream",
     "text": [
      "[1, 2, 3, 4, 5]\n"
     ]
    }
   ],
   "source": [
    "a = (1,2,3,4,5)\n",
    "print(list(a))"
   ]
  },
  {
   "cell_type": "code",
   "execution_count": 4,
   "metadata": {},
   "outputs": [
    {
     "name": "stdout",
     "output_type": "stream",
     "text": [
      "True\n",
      "False\n"
     ]
    }
   ],
   "source": [
    "a = [1,2,3,4,5]\n",
    "b = [1,2,3,4,5]\n",
    "c = a \n",
    "print(c is a)\n",
    "print(a is b)\n"
   ]
  },
  {
   "cell_type": "code",
   "execution_count": 5,
   "id": "9a8b5623",
   "metadata": {},
   "outputs": [
    {
     "name": "stdout",
     "output_type": "stream",
     "text": [
      "king\n"
     ]
    }
   ],
   "source": [
    "a = input(\"enter your name\")\n",
    "print(a) "
   ]
  },
  {
   "cell_type": "code",
   "execution_count": 1,
   "id": "6bf5552f",
   "metadata": {},
   "outputs": [],
   "source": [
    "l = [1,2,3,4,5,6,7,8,9]"
   ]
  },
  {
   "cell_type": "code",
   "execution_count": 2,
   "metadata": {},
   "outputs": [],
   "source": [
    "l.append(10)"
   ]
  },
  {
   "cell_type": "code",
   "execution_count": 3,
   "metadata": {},
   "outputs": [
    {
     "data": {
      "text/plain": [
       "[1, 2, 3, 4, 5, 6, 7, 8, 9, 10]"
      ]
     },
     "execution_count": 3,
     "metadata": {},
     "output_type": "execute_result"
    }
   ],
   "source": [
    "l"
   ]
  },
  {
   "cell_type": "code",
   "execution_count": 4,
   "id": "f86347c2",
   "metadata": {},
   "outputs": [
    {
     "data": {
      "text/plain": [
       "[1, 2, 11, 3, 4, 5, 6, 7, 8, 9, 10]"
      ]
     },
     "execution_count": 4,
     "metadata": {},
     "output_type": "execute_result"
    }
   ],
   "source": [
    "l.insert(2,11)\n",
    "l"
   ]
  },
  {
   "cell_type": "code",
   "execution_count": 7,
   "id": "6a57fbf2",
   "metadata": {},
   "outputs": [
    {
     "data": {
      "text/plain": [
       "[1, 2, 4, 5, 6, 7, 8, 9, 10]"
      ]
     },
     "execution_count": 7,
     "metadata": {},
     "output_type": "execute_result"
    }
   ],
   "source": [
    "l.pop(2)\n",
    "l"
   ]
  },
  {
   "cell_type": "code",
   "execution_count": null,
   "id": "cacb7eb3",
   "metadata": {},
   "outputs": [
    {
     "data": {
      "text/plain": [
       "[9, 8, 7, 6, 5, 4, 2, 1]"
      ]
     },
     "execution_count": 13,
     "metadata": {},
     "output_type": "execute_result"
    }
   ],
   "source": [
    "l.sort(reverse=True)    \n",
    "l"
   ]
  },
  {
   "cell_type": "code",
   "execution_count": 7,
   "id": "bc82ca0e",
   "metadata": {},
   "outputs": [
    {
     "data": {
      "text/plain": [
       "'100'"
      ]
     },
     "execution_count": 7,
     "metadata": {},
     "output_type": "execute_result"
    }
   ],
   "source": [
    "n = int(input())\n",
    "def binary_to_decimal(n):\n",
    "    dec = \"\"\n",
    "    while n > 0 :\n",
    "        r = n%2 \n",
    "        dec += str(r) \n",
    "        n = n//2 \n",
    "    return dec[::-1]  \n",
    "binary_to_decimal(n)\n"
   ]
  },
  {
   "cell_type": "code",
   "execution_count": 13,
   "id": "7e8a706f",
   "metadata": {},
   "outputs": [
    {
     "name": "stdout",
     "output_type": "stream",
     "text": [
      "mokshagna\n"
     ]
    }
   ],
   "source": [
    "name = \"I am King Slayer and a fan of virat kohli mokshagna\"\n",
    "name = name.lower()\n",
    "lst = name.split()\n",
    "a = name[0]\n",
    "for i in lst:\n",
    "    if len(i) > len(a):\n",
    "        a = i \n",
    "    else:\n",
    "        pass \n",
    "print(a)        "
   ]
  },
  {
   "cell_type": "code",
   "execution_count": 22,
   "id": "52200fcc",
   "metadata": {},
   "outputs": [
    {
     "name": "stdout",
     "output_type": "stream",
     "text": [
      "[[4, 5], [6, 8]]\n"
     ]
    }
   ],
   "source": [
    "m = int(input())\n",
    "n = int(input())\n",
    "a = []\n",
    "b = []\n",
    "c = []\n",
    "for i in range(m):\n",
    "    mat_1 = []\n",
    "    for j in range(n):\n",
    "        mat_1.append(int(input()))\n",
    "    a.append(mat_1) \n",
    "print(a)    \n"
   ]
  },
  {
   "cell_type": "code",
   "execution_count": 23,
   "id": "ed3a37c0",
   "metadata": {},
   "outputs": [
    {
     "name": "stdout",
     "output_type": "stream",
     "text": [
      "[[2, 2], [5, 6]]\n"
     ]
    }
   ],
   "source": [
    "for i in range(m):\n",
    "    mat_2 = []\n",
    "    for j in range(n):\n",
    "        mat_2.append(int(input()))\n",
    "    b.append(mat_2) \n",
    "print(b) "
   ]
  },
  {
   "cell_type": "code",
   "execution_count": 33,
   "id": "6a23e207",
   "metadata": {},
   "outputs": [],
   "source": [
    "def king(*k,**ks):\n",
    "    print(\"kingslayer\",k)\n",
    "    print(\"wwe\",ks)"
   ]
  },
  {
   "cell_type": "code",
   "execution_count": 34,
   "id": "d23f0459",
   "metadata": {},
   "outputs": [
    {
     "name": "stdout",
     "output_type": "stream",
     "text": [
      "kingslayer (10, 20, 30)\n",
      "wwe {'name': 'ameet', 'id': 10}\n"
     ]
    }
   ],
   "source": [
    "king(10,20,30,name=\"ameet\",id=10)"
   ]
  },
  {
   "cell_type": "code",
   "execution_count": 1,
   "id": "6f929f94",
   "metadata": {},
   "outputs": [
    {
     "name": "stdout",
     "output_type": "stream",
     "text": [
      "7\n"
     ]
    }
   ],
   "source": [
    "num1 = 7.5\n",
    "num1 = int(num1)\n",
    "print(num1)"
   ]
  },
  {
   "cell_type": "code",
   "execution_count": 4,
   "id": "0ae3fe6f",
   "metadata": {},
   "outputs": [
    {
     "name": "stdout",
     "output_type": "stream",
     "text": [
      "3.333\n"
     ]
    }
   ],
   "source": [
    "print(round(10/3,3))"
   ]
  },
  {
   "cell_type": "code",
   "execution_count": null,
   "id": "8042f0ce",
   "metadata": {},
   "outputs": [
    {
     "data": {
      "text/plain": [
       "14"
      ]
     },
     "execution_count": 7,
     "metadata": {},
     "output_type": "execute_result"
    }
   ],
   "source": [
    "a = \"Repetition\"\n",
    "for i in range(1,15):\n",
    "    a += \" \" + a \n",
    "a    \n",
    " "
   ]
  },
  {
   "cell_type": "code",
   "execution_count": 9,
   "id": "44427cf7",
   "metadata": {},
   "outputs": [
    {
     "data": {
      "text/plain": [
       "[10, 20, 30, 40, 50, 30, 'Python', True, [1, 2], 99.9, 100]"
      ]
     },
     "execution_count": 9,
     "metadata": {},
     "output_type": "execute_result"
    }
   ],
   "source": [
    "a = [10, 20, 30, 40, 50, 30, \"Python\", True, [1, 2], 99.9]\n",
    "a.append(100)\n",
    "a "
   ]
  },
  {
   "cell_type": "code",
   "execution_count": 10,
   "id": "6f535f2f",
   "metadata": {},
   "outputs": [
    {
     "data": {
      "text/plain": [
       "[10, 20, 30, 40, 50, 30, 'Mokshagna', 'Python', True, [1, 2], 99.9, 100]"
      ]
     },
     "execution_count": 10,
     "metadata": {},
     "output_type": "execute_result"
    }
   ],
   "source": [
    "a.insert(6,\"Mokshagna\")\n",
    "a "
   ]
  },
  {
   "cell_type": "code",
   "execution_count": 11,
   "id": "a0a303d0",
   "metadata": {},
   "outputs": [
    {
     "data": {
      "text/plain": [
       "[10, 20, 30, 40, 50, 30, 'Mokshagna', 'Python', True, 99.9, 100]"
      ]
     },
     "execution_count": 11,
     "metadata": {},
     "output_type": "execute_result"
    }
   ],
   "source": [
    "a.remove([1,2])\n",
    "a"
   ]
  },
  {
   "cell_type": "code",
   "execution_count": 14,
   "id": "d9d4e460",
   "metadata": {},
   "outputs": [
    {
     "data": {
      "text/plain": [
       "2"
      ]
     },
     "execution_count": 14,
     "metadata": {},
     "output_type": "execute_result"
    }
   ],
   "source": [
    "a.count(30)"
   ]
  },
  {
   "cell_type": "code",
   "execution_count": 20,
   "id": "1ee132b9",
   "metadata": {},
   "outputs": [
    {
     "data": {
      "text/plain": [
       "2"
      ]
     },
     "execution_count": 20,
     "metadata": {},
     "output_type": "execute_result"
    }
   ],
   "source": [
    "a.index(30)"
   ]
  },
  {
   "cell_type": "code",
   "execution_count": 23,
   "id": "0fa2c365",
   "metadata": {},
   "outputs": [
    {
     "name": "stdout",
     "output_type": "stream",
     "text": [
      "None\n"
     ]
    }
   ],
   "source": [
    "print(a.reverse())"
   ]
  },
  {
   "cell_type": "code",
   "execution_count": 25,
   "id": "5b61fa7d",
   "metadata": {},
   "outputs": [],
   "source": [
    "b = [10, 20, 30, 40, 50, 30, \"Python\", True, [1, 2], 99.9]\n",
    "b.reverse()"
   ]
  },
  {
   "cell_type": "code",
   "execution_count": 30,
   "id": "2bac53be",
   "metadata": {},
   "outputs": [],
   "source": [
    "c = [12,13,14,15]\n",
    "c.reverse()"
   ]
  },
  {
   "cell_type": "code",
   "execution_count": 31,
   "id": "81e2795c",
   "metadata": {},
   "outputs": [
    {
     "name": "stdout",
     "output_type": "stream",
     "text": [
      "[15, 14, 13, 12]\n"
     ]
    }
   ],
   "source": [
    "print(c)"
   ]
  },
  {
   "cell_type": "code",
   "execution_count": 32,
   "id": "be02acc1",
   "metadata": {},
   "outputs": [],
   "source": [
    "student = {\n",
    "    \"name\": \"Alice\",\n",
    "    \"age\": 22,\n",
    "    \"course\": \"Computer Science\",\n",
    "    \"grades\": [85, 90, 92],\n",
    "    \"is_enrolled\": True,\n",
    "    \"contact\": {\n",
    "        \"email\": \"alice@example.com\",\n",
    "        \"phone\": \"123-456-7890\"\n",
    "    }\n",
    "}"
   ]
  },
  {
   "cell_type": "code",
   "execution_count": 33,
   "id": "241aa106",
   "metadata": {},
   "outputs": [
    {
     "data": {
      "text/plain": [
       "dict_keys(['name', 'age', 'course', 'grades', 'is_enrolled', 'contact'])"
      ]
     },
     "execution_count": 33,
     "metadata": {},
     "output_type": "execute_result"
    }
   ],
   "source": [
    "student.keys()"
   ]
  },
  {
   "cell_type": "code",
   "execution_count": 34,
   "id": "dde14c42",
   "metadata": {},
   "outputs": [
    {
     "data": {
      "text/plain": [
       "dict_values(['Alice', 22, 'Computer Science', [85, 90, 92], True, {'email': 'alice@example.com', 'phone': '123-456-7890'}])"
      ]
     },
     "execution_count": 34,
     "metadata": {},
     "output_type": "execute_result"
    }
   ],
   "source": [
    "student.values()"
   ]
  },
  {
   "cell_type": "code",
   "execution_count": 35,
   "id": "e5114b4c",
   "metadata": {},
   "outputs": [
    {
     "data": {
      "text/plain": [
       "dict_items([('name', 'Alice'), ('age', 22), ('course', 'Computer Science'), ('grades', [85, 90, 92]), ('is_enrolled', True), ('contact', {'email': 'alice@example.com', 'phone': '123-456-7890'})])"
      ]
     },
     "execution_count": 35,
     "metadata": {},
     "output_type": "execute_result"
    }
   ],
   "source": [
    "student.items()"
   ]
  },
  {
   "cell_type": "code",
   "execution_count": null,
   "id": "6cff9cce",
   "metadata": {},
   "outputs": [],
   "source": [
    "student.update(name)"
   ]
  },
  {
   "cell_type": "code",
   "execution_count": 2,
   "id": "4bb59b0e",
   "metadata": {},
   "outputs": [
    {
     "data": {
      "text/plain": [
       "[1, 4, 9, 16, 25, 36, 49, 64, 81, 100]"
      ]
     },
     "execution_count": 2,
     "metadata": {},
     "output_type": "execute_result"
    }
   ],
   "source": [
    "a = [i**2 for i in range(1,11)] \n",
    "a"
   ]
  },
  {
   "cell_type": "code",
   "execution_count": null,
   "id": "b41e8317",
   "metadata": {},
   "outputs": [],
   "source": []
  }
 ],
 "metadata": {
  "kernelspec": {
   "display_name": "Python 3",
   "language": "python",
   "name": "python3"
  },
  "language_info": {
   "codemirror_mode": {
    "name": "ipython",
    "version": 3
   },
   "file_extension": ".py",
   "mimetype": "text/x-python",
   "name": "python",
   "nbconvert_exporter": "python",
   "pygments_lexer": "ipython3",
   "version": "3.12.8"
  }
 },
 "nbformat": 4,
 "nbformat_minor": 5
}
